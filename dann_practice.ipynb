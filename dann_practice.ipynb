{
  "nbformat": 4,
  "nbformat_minor": 0,
  "metadata": {
    "colab": {
      "provenance": [],
      "gpuType": "T4"
    },
    "kernelspec": {
      "name": "python3",
      "display_name": "Python 3"
    },
    "language_info": {
      "name": "python"
    },
    "accelerator": "GPU",
    "gpuClass": "standard"
  },
  "cells": [
    {
      "cell_type": "code",
      "execution_count": null,
      "metadata": {
        "id": "W3w284Gumpfm"
      },
      "outputs": [],
      "source": []
    },
    {
      "cell_type": "markdown",
      "source": [
        "# Pytorch Adaptを用いたDANN（Domain Adversarial Neural Networks）の実装\n",
        "\n"
      ],
      "metadata": {
        "id": "itIEJCC8mr1O"
      }
    },
    {
      "cell_type": "code",
      "source": [
        "!pip install -q pytorch-adapt"
      ],
      "metadata": {
        "colab": {
          "base_uri": "https://localhost:8080/"
        },
        "id": "AMmdjC2OmwD-",
        "outputId": "c3648f56-8d97-4f0a-cf23-f003f7bb220d"
      },
      "execution_count": 1,
      "outputs": [
        {
          "output_type": "stream",
          "name": "stdout",
          "text": [
            "\u001b[2K     \u001b[90m━━━━━━━━━━━━━━━━━━━━━━━━━━━━━━━━━━━━━━━\u001b[0m \u001b[32m158.2/158.2 kB\u001b[0m \u001b[31m3.7 MB/s\u001b[0m eta \u001b[36m0:00:00\u001b[0m\n",
            "\u001b[2K     \u001b[90m━━━━━━━━━━━━━━━━━━━━━━━━━━━━━━━━━━━━━━\u001b[0m \u001b[32m419.6/419.6 kB\u001b[0m \u001b[31m15.1 MB/s\u001b[0m eta \u001b[36m0:00:00\u001b[0m\n",
            "\u001b[2K     \u001b[90m━━━━━━━━━━━━━━━━━━━━━━━━━━━━━━━━━━━━━━━\u001b[0m \u001b[32m111.4/111.4 kB\u001b[0m \u001b[31m2.8 MB/s\u001b[0m eta \u001b[36m0:00:00\u001b[0m\n",
            "\u001b[?25h"
          ]
        }
      ]
    },
    {
      "cell_type": "code",
      "source": [
        "import torch\n",
        "from tqdm import tqdm\n",
        "\n",
        "from pytorch_adapt.containers import Models, Optimizers\n",
        "from pytorch_adapt.datasets import DataloaderCreator, get_mnist_mnistm\n",
        "from pytorch_adapt.hooks import DANNHook\n",
        "from pytorch_adapt.models import Discriminator, mnistC, mnistG\n",
        "from pytorch_adapt.utils.common_functions import batch_to_device\n",
        "from pytorch_adapt.validators import IMValidator\n"
      ],
      "metadata": {
        "id": "wgJ7Yp5Lm5L3"
      },
      "execution_count": 3,
      "outputs": []
    },
    {
      "cell_type": "code",
      "source": [
        "# データのダウンロード\n",
        "datasets = get_mnist_mnistm([\"mnist\"],[\"mnistm\"], folder=\".\", download=True)\n"
      ],
      "metadata": {
        "colab": {
          "base_uri": "https://localhost:8080/"
        },
        "id": "vNlJaCmaoBxa",
        "outputId": "9da02ec8-fa1d-4cf5-ea54-22156ccf4d79"
      },
      "execution_count": 4,
      "outputs": [
        {
          "output_type": "stream",
          "name": "stdout",
          "text": [
            "Downloading http://yann.lecun.com/exdb/mnist/train-images-idx3-ubyte.gz\n",
            "Downloading http://yann.lecun.com/exdb/mnist/train-images-idx3-ubyte.gz to ./MNIST/raw/train-images-idx3-ubyte.gz\n"
          ]
        },
        {
          "output_type": "stream",
          "name": "stderr",
          "text": [
            "100%|██████████| 9912422/9912422 [00:00<00:00, 96075720.57it/s]\n"
          ]
        },
        {
          "output_type": "stream",
          "name": "stdout",
          "text": [
            "Extracting ./MNIST/raw/train-images-idx3-ubyte.gz to ./MNIST/raw\n",
            "\n",
            "Downloading http://yann.lecun.com/exdb/mnist/train-labels-idx1-ubyte.gz\n",
            "Downloading http://yann.lecun.com/exdb/mnist/train-labels-idx1-ubyte.gz to ./MNIST/raw/train-labels-idx1-ubyte.gz\n"
          ]
        },
        {
          "output_type": "stream",
          "name": "stderr",
          "text": [
            "100%|██████████| 28881/28881 [00:00<00:00, 38504670.64it/s]"
          ]
        },
        {
          "output_type": "stream",
          "name": "stdout",
          "text": [
            "Extracting ./MNIST/raw/train-labels-idx1-ubyte.gz to ./MNIST/raw\n",
            "\n",
            "Downloading http://yann.lecun.com/exdb/mnist/t10k-images-idx3-ubyte.gz\n"
          ]
        },
        {
          "output_type": "stream",
          "name": "stderr",
          "text": [
            "\n"
          ]
        },
        {
          "output_type": "stream",
          "name": "stdout",
          "text": [
            "Downloading http://yann.lecun.com/exdb/mnist/t10k-images-idx3-ubyte.gz to ./MNIST/raw/t10k-images-idx3-ubyte.gz\n"
          ]
        },
        {
          "output_type": "stream",
          "name": "stderr",
          "text": [
            "100%|██████████| 1648877/1648877 [00:00<00:00, 25738529.49it/s]"
          ]
        },
        {
          "output_type": "stream",
          "name": "stdout",
          "text": [
            "Extracting ./MNIST/raw/t10k-images-idx3-ubyte.gz to ./MNIST/raw\n",
            "\n",
            "Downloading http://yann.lecun.com/exdb/mnist/t10k-labels-idx1-ubyte.gz\n",
            "Downloading http://yann.lecun.com/exdb/mnist/t10k-labels-idx1-ubyte.gz to ./MNIST/raw/t10k-labels-idx1-ubyte.gz\n"
          ]
        },
        {
          "output_type": "stream",
          "name": "stderr",
          "text": [
            "\n",
            "100%|██████████| 4542/4542 [00:00<00:00, 2044486.88it/s]\n"
          ]
        },
        {
          "output_type": "stream",
          "name": "stdout",
          "text": [
            "Extracting ./MNIST/raw/t10k-labels-idx1-ubyte.gz to ./MNIST/raw\n",
            "\n",
            "Downloading https://public.boxcloud.com/d/1/b1!NegopJ_HO2jtwhRaUEEE_CdCjI8rnCdODdv-YTxIPLjAQmvQneclqnL4j-V1XKFK-PgD5Q3MSuTpqz7VZNjeGhZm_A_yJLunicLnL76P5q8qLCdVFftbNNr734TAE05OUyq1xXxqjc4WoOjiyQWvC8jJePSUd9fslUNNqgZ0cUrwupxI8omtNkiipXoWASP6wjFHv5yOCwbPxUpMU43rw_FfixmFI5w4pfMWUBBXfe6FrLQo0Xk6ywBIVcKFWg3x4lL7ux6d3WO4KFK1MVXeeyfSkk_Z12oeTvtTOHAIjc4sf2ISCx0mrGXCKRrc5Yvzv-ASsN2QeKMSeLac8AtNtk9f7hDgvvgAP12byQ95rJEAgv7pp0sTzZTTAbaoHydTtQNgwQDIbY0DqCP5A9nEz6B94bXmaBIP-rvAMRsYYDp51tFT8vqkL0vbLxGnDZy_UNCMgK1BlswCrE5buRyv_-OCe30k8CiKxKP6LOcv6jxkZe3ZlbrI0mqnKoANzXP3pcqW9A02g3t4J0Zi5d9lZYGmw8fuflDQeDpURP9o0hFwKL0-ok5kES_SmBmx8t1_PjjxwMpjHzAgHJ24aiojWo2WdSEF551KKZ7U_vqDBeGODv9fxSq5WjB2S-nVUTbKV9EOpWoZzLy8zRmTMT1kmvXZ7vHAL7942Lg41yTTANFEu5ND9kEvqBUpL3ro0zlLBuBY-GvyAKNrbqR_qKkHcp7ECvng-FyZDttcGRhQkylxvnwK68U3ecgQe6v8O2FXtoJ9RJBlo0Sl4epTYcwC7gTVQii4q1kDBf1I2PwQ9VQ7nba_IAzAaG3Y5zLvj85XPSieoz5PAATFJAiyXpPMkXWZILGW-mdT_Pts8d0yn7J-MMy6XkGZSelOF3TBFtmIjDgedJLoJfgSf2qGKjgcbfnlMs_N1A9oc9ecqoBNi4ZQIeHWf_podtY1ufmds60mkgnUUrPrL9xT43zvp_GPC3THIaGKrf4eT_B9RmPhkKCi12itAKsny5SJbJyiwQ22-mN1vUg8WF6Bq-cKTRhxRIN4nT_Ga8DQEj0p2shAuvcUqOKWaZ6fKVJIt5Y9btAYnuOd9NzezDiH_p-EXEeng2Iz63qk-TD5XgH8JVYdMmGZfrGwlt22c2rRoebB-kWtGhuabeJ1YL9kmQWGru193-Gj1MrclweCiHbUx2rP2cPNJz72GXTiltX-pvOUAkNlk6RtLr7MS2EkU25jrNKu7XEjjM40ee5lvKGEhSBYPB5wXiA1l9tdaycY7_BIICMsLdct41u5E4MVMZa7Js-NIhrOFPjktd3wKOoQmRHRiicVXnbix0HyQAyxB_YiDYz-E-ImZ2abjIVj9l12FxYkWg0XFC7Jl4hHu2NAOQBSvHP0KsfXyA4Ji18K0knoLCKblf1uoA../download to ./mnist_m.tar.gz\n"
          ]
        },
        {
          "output_type": "stream",
          "name": "stderr",
          "text": [
            "100%|██████████| 134178716/134178716 [00:15<00:00, 8944557.50it/s] \n",
            "100%|██████████| 68007/68007 [00:10<00:00, 6738.88it/s]\n"
          ]
        }
      ]
    },
    {
      "cell_type": "code",
      "source": [
        "# データローダーの作成\n",
        "dc = DataloaderCreator(batch_size=32)\n",
        "dataloaders = dc(**datasets)"
      ],
      "metadata": {
        "id": "tjEv9GAroXkq"
      },
      "execution_count": 5,
      "outputs": []
    },
    {
      "cell_type": "code",
      "source": [
        "dc"
      ],
      "metadata": {
        "colab": {
          "base_uri": "https://localhost:8080/"
        },
        "id": "p1uzZuISpFTO",
        "outputId": "672a5c7f-1314-4d12-f02e-ae382b9d9111"
      },
      "execution_count": 7,
      "outputs": [
        {
          "output_type": "execute_result",
          "data": {
            "text/plain": [
              "<pytorch_adapt.datasets.dataloader_creator.DataloaderCreator at 0x7f64b4bc34f0>"
            ]
          },
          "metadata": {},
          "execution_count": 7
        }
      ]
    },
    {
      "cell_type": "code",
      "source": [
        "dataloaders"
      ],
      "metadata": {
        "colab": {
          "base_uri": "https://localhost:8080/"
        },
        "id": "bSecqyGuo90Q",
        "outputId": "06fdcf89-e976-4d90-d0a8-76a9e115b748"
      },
      "execution_count": 6,
      "outputs": [
        {
          "output_type": "execute_result",
          "data": {
            "text/plain": [
              "{'src_train': <torch.utils.data.dataloader.DataLoader at 0x7f64b4bc3cd0>,\n",
              " 'src_val': <torch.utils.data.dataloader.DataLoader at 0x7f64b4bc2050>,\n",
              " 'target_train': <torch.utils.data.dataloader.DataLoader at 0x7f64b4bc3700>,\n",
              " 'target_val': <torch.utils.data.dataloader.DataLoader at 0x7f64b4bc3ee0>,\n",
              " 'train': <torch.utils.data.dataloader.DataLoader at 0x7f64b4bc3940>}"
            ]
          },
          "metadata": {},
          "execution_count": 6
        }
      ]
    },
    {
      "cell_type": "code",
      "source": [],
      "metadata": {
        "id": "2ZeowcAgo_GU"
      },
      "execution_count": 7,
      "outputs": []
    },
    {
      "cell_type": "markdown",
      "source": [
        "# モデルの定義"
      ],
      "metadata": {
        "id": "as1Lz4KLpNuj"
      }
    },
    {
      "cell_type": "code",
      "source": [
        "# デバイス情報の取得\n",
        "device = torch.device(\"cuda\") if torch.cuda.is_available() else torch.device(\"cpu\")"
      ],
      "metadata": {
        "id": "4awpj4BppMoM"
      },
      "execution_count": 8,
      "outputs": []
    },
    {
      "cell_type": "code",
      "source": [
        "device"
      ],
      "metadata": {
        "colab": {
          "base_uri": "https://localhost:8080/"
        },
        "id": "vdaUvQ5KpeEr",
        "outputId": "ad40a6df-733d-4987-9e56-534ebff38222"
      },
      "execution_count": 9,
      "outputs": [
        {
          "output_type": "execute_result",
          "data": {
            "text/plain": [
              "device(type='cuda')"
            ]
          },
          "metadata": {},
          "execution_count": 9
        }
      ]
    },
    {
      "cell_type": "code",
      "source": [
        ", optimizers\n",
        "# 共通の特徴抽出器を定義\n",
        "G = mnistG(pretrained=False).to(device)\n",
        "\n",
        "# クラス分類のための全結合層\n",
        "C = mnistC(pretrained=False).to(device)\n",
        "\n",
        "# 敵対的学習のための全結合層を定義\n",
        "D = Discriminator(in_size=1200, # 入力次元数\n",
        "                  h=256\n",
        "                  ).to(device)\n",
        "\n",
        "models = Models({\"G\": G, \"C\":C, \"D\":D})\n",
        "\n",
        "optimizers = Optimizers((torch.optim.Adam, {\"lr\": 0.001}))\n",
        "\n",
        "# モデルのハイパラをオプティマイザに登録\n",
        "optimizers.create_with(models)\n",
        "optimizers = list(optimizers.values())\n",
        "\n",
        "hook = DANNHook(optimizers)\n",
        "\n",
        "validator = IMValidator()"
      ],
      "metadata": {
        "id": "iXUqzdnBphJf"
      },
      "execution_count": 16,
      "outputs": []
    },
    {
      "cell_type": "code",
      "source": [
        "G"
      ],
      "metadata": {
        "colab": {
          "base_uri": "https://localhost:8080/"
        },
        "id": "8SUt1hPqp1Du",
        "outputId": "5726c6b1-084d-4322-bf51-65d936995047"
      },
      "execution_count": 12,
      "outputs": [
        {
          "output_type": "execute_result",
          "data": {
            "text/plain": [
              "MNISTFeatures(\n",
              "  (conv1): Conv2d(3, 32, kernel_size=(5, 5), stride=(1, 1))\n",
              "  (conv2): Conv2d(32, 48, kernel_size=(5, 5), stride=(1, 1))\n",
              "  (fc): Identity()\n",
              ")"
            ]
          },
          "metadata": {},
          "execution_count": 12
        }
      ]
    },
    {
      "cell_type": "code",
      "source": [
        "C"
      ],
      "metadata": {
        "colab": {
          "base_uri": "https://localhost:8080/"
        },
        "id": "enDR4GtAp4w1",
        "outputId": "63c30036-b6e0-4298-e22b-5ee0553df96a"
      },
      "execution_count": 15,
      "outputs": [
        {
          "output_type": "execute_result",
          "data": {
            "text/plain": [
              "Classifier(\n",
              "  (net): Sequential(\n",
              "    (0): Linear(in_features=1200, out_features=256, bias=True)\n",
              "    (1): ReLU()\n",
              "    (2): Dropout(p=0.5, inplace=False)\n",
              "    (3): Linear(in_features=256, out_features=128, bias=True)\n",
              "    (4): ReLU()\n",
              "    (5): Dropout(p=0.5, inplace=False)\n",
              "    (6): Linear(in_features=128, out_features=10, bias=True)\n",
              "  )\n",
              ")"
            ]
          },
          "metadata": {},
          "execution_count": 15
        }
      ]
    },
    {
      "cell_type": "code",
      "source": [
        "D"
      ],
      "metadata": {
        "colab": {
          "base_uri": "https://localhost:8080/"
        },
        "id": "hVNaVCsgqUTg",
        "outputId": "0a42288a-d44a-4971-eef6-630c945380ac"
      },
      "execution_count": 17,
      "outputs": [
        {
          "output_type": "execute_result",
          "data": {
            "text/plain": [
              "Discriminator(\n",
              "  (net): Sequential(\n",
              "    (0): Linear(in_features=1200, out_features=256, bias=True)\n",
              "    (1): ReLU()\n",
              "    (2): Linear(in_features=256, out_features=256, bias=True)\n",
              "    (3): ReLU()\n",
              "    (4): Linear(in_features=256, out_features=1, bias=True)\n",
              "  )\n",
              ")"
            ]
          },
          "metadata": {},
          "execution_count": 17
        }
      ]
    },
    {
      "cell_type": "code",
      "source": [
        "models"
      ],
      "metadata": {
        "colab": {
          "base_uri": "https://localhost:8080/"
        },
        "id": "REgJeS6grooG",
        "outputId": "60114427-69f0-4c6e-f78b-e9b447810c7b"
      },
      "execution_count": 18,
      "outputs": [
        {
          "output_type": "execute_result",
          "data": {
            "text/plain": [
              "G: MNISTFeatures(\n",
              "  (conv1): Conv2d(3, 32, kernel_size=(5, 5), stride=(1, 1))\n",
              "  (conv2): Conv2d(32, 48, kernel_size=(5, 5), stride=(1, 1))\n",
              "  (fc): Identity()\n",
              ")\n",
              "C: Classifier(\n",
              "  (net): Sequential(\n",
              "    (0): Linear(in_features=1200, out_features=256, bias=True)\n",
              "    (1): ReLU()\n",
              "    (2): Dropout(p=0.5, inplace=False)\n",
              "    (3): Linear(in_features=256, out_features=128, bias=True)\n",
              "    (4): ReLU()\n",
              "    (5): Dropout(p=0.5, inplace=False)\n",
              "    (6): Linear(in_features=128, out_features=10, bias=True)\n",
              "  )\n",
              ")\n",
              "D: Discriminator(\n",
              "  (net): Sequential(\n",
              "    (0): Linear(in_features=1200, out_features=256, bias=True)\n",
              "    (1): ReLU()\n",
              "    (2): Linear(in_features=256, out_features=256, bias=True)\n",
              "    (3): ReLU()\n",
              "    (4): Linear(in_features=256, out_features=1, bias=True)\n",
              "  )\n",
              ")"
            ]
          },
          "metadata": {},
          "execution_count": 18
        }
      ]
    },
    {
      "cell_type": "code",
      "source": [
        "optimizers"
      ],
      "metadata": {
        "colab": {
          "base_uri": "https://localhost:8080/"
        },
        "id": "Vcsajtsgrrdm",
        "outputId": "9ce1a057-5181-4cfa-ee91-942cab31067b"
      },
      "execution_count": 19,
      "outputs": [
        {
          "output_type": "execute_result",
          "data": {
            "text/plain": [
              "[Adam (\n",
              " Parameter Group 0\n",
              "     amsgrad: False\n",
              "     betas: (0.9, 0.999)\n",
              "     capturable: False\n",
              "     differentiable: False\n",
              "     eps: 1e-08\n",
              "     foreach: None\n",
              "     fused: None\n",
              "     lr: 0.001\n",
              "     maximize: False\n",
              "     weight_decay: 0\n",
              " ),\n",
              " Adam (\n",
              " Parameter Group 0\n",
              "     amsgrad: False\n",
              "     betas: (0.9, 0.999)\n",
              "     capturable: False\n",
              "     differentiable: False\n",
              "     eps: 1e-08\n",
              "     foreach: None\n",
              "     fused: None\n",
              "     lr: 0.001\n",
              "     maximize: False\n",
              "     weight_decay: 0\n",
              " ),\n",
              " Adam (\n",
              " Parameter Group 0\n",
              "     amsgrad: False\n",
              "     betas: (0.9, 0.999)\n",
              "     capturable: False\n",
              "     differentiable: False\n",
              "     eps: 1e-08\n",
              "     foreach: None\n",
              "     fused: None\n",
              "     lr: 0.001\n",
              "     maximize: False\n",
              "     weight_decay: 0\n",
              " )]"
            ]
          },
          "metadata": {},
          "execution_count": 19
        }
      ]
    },
    {
      "cell_type": "code",
      "source": [
        "hook"
      ],
      "metadata": {
        "colab": {
          "base_uri": "https://localhost:8080/"
        },
        "id": "jQxdagZSrt5-",
        "outputId": "1a060b38-991f-4d38-96ea-6e181d62af25"
      },
      "execution_count": 20,
      "outputs": [
        {
          "output_type": "execute_result",
          "data": {
            "text/plain": [
              "DANNHook(\n",
              "  (hook): ChainHook(\n",
              "    (hooks): (OptimizerHook(\n",
              "      optimizers=[Adam (\n",
              "      Parameter Group 0\n",
              "          amsgrad: False\n",
              "          betas: (0.9, 0.999)\n",
              "          capturable: False\n",
              "          differentiable: False\n",
              "          eps: 1e-08\n",
              "          foreach: None\n",
              "          fused: None\n",
              "          lr: 0.001\n",
              "          maximize: False\n",
              "          weight_decay: 0\n",
              "      ), Adam (\n",
              "      Parameter Group 0\n",
              "          amsgrad: False\n",
              "          betas: (0.9, 0.999)\n",
              "          capturable: False\n",
              "          differentiable: False\n",
              "          eps: 1e-08\n",
              "          foreach: None\n",
              "          fused: None\n",
              "          lr: 0.001\n",
              "          maximize: False\n",
              "          weight_decay: 0\n",
              "      ), Adam (\n",
              "      Parameter Group 0\n",
              "          amsgrad: False\n",
              "          betas: (0.9, 0.999)\n",
              "          capturable: False\n",
              "          differentiable: False\n",
              "          eps: 1e-08\n",
              "          foreach: None\n",
              "          fused: None\n",
              "          lr: 0.001\n",
              "          maximize: False\n",
              "          weight_decay: 0\n",
              "      )]\n",
              "      weighter=MeanWeighter(\n",
              "        weights={}\n",
              "        scale=1\n",
              "      )\n",
              "      (hook): ChainHook(\n",
              "        (hooks): (FeaturesForDomainLossHook(\n",
              "          (hooks): (FeaturesHook(\n",
              "            model_name=G\n",
              "            domains=['src', 'target']\n",
              "            detach={'src': False, 'target': False}\n",
              "          ),)\n",
              "        ), AssertHook(\n",
              "          allowed=_dlogits$\n",
              "          (hook): OnlyNewOutputsHook(\n",
              "            (hook): ChainHook(\n",
              "              (hooks): (GradientReversalHook(\n",
              "                apply_to=['target_imgs_features', 'src_imgs_features']\n",
              "                (fn): GradientReversal(weight=tensor([1]))\n",
              "              ), DomainLossHook(\n",
              "                reverse_labels=False\n",
              "                (hook): ChainHook(\n",
              "                  (hooks): (FeaturesForDomainLossHook(\n",
              "                    (hooks): (FeaturesHook(\n",
              "                      model_name=G\n",
              "                      domains=['src', 'target']\n",
              "                      detach={'src': False, 'target': False}\n",
              "                    ),)\n",
              "                  ), DLogitsHook(\n",
              "                    model_name=D\n",
              "                    domains=['src', 'target']\n",
              "                    detach={'src': False, 'target': False}\n",
              "                  ))\n",
              "                )\n",
              "                (d_loss_fn): BCEWithLogitsLoss()\n",
              "              ))\n",
              "            )\n",
              "          )\n",
              "        ), ChainHook(\n",
              "          (hooks): (CLossHook(\n",
              "            (hook): FeaturesAndLogitsHook(\n",
              "              (hooks): (FeaturesHook(\n",
              "                model_name=G\n",
              "                domains=('src',)\n",
              "                detach={'src': False}\n",
              "              ), LogitsHook(\n",
              "                model_name=C\n",
              "                domains=('src',)\n",
              "                detach={'src': False}\n",
              "              ))\n",
              "            )\n",
              "            (loss_fn): CrossEntropyLoss()\n",
              "          ),)\n",
              "        ))\n",
              "      )\n",
              "      (reducer): MeanReducer(apply_to=None)\n",
              "    ), SummaryHook())\n",
              "  )\n",
              ")"
            ]
          },
          "metadata": {},
          "execution_count": 20
        }
      ]
    },
    {
      "cell_type": "code",
      "source": [
        "validator"
      ],
      "metadata": {
        "colab": {
          "base_uri": "https://localhost:8080/"
        },
        "id": "04P_djG8rwuV",
        "outputId": "42015302-fd8b-4d21-84c3-0ecf2cdab7cb"
      },
      "execution_count": 21,
      "outputs": [
        {
          "output_type": "execute_result",
          "data": {
            "text/plain": [
              "IMValidator(\n",
              "  required_data=['target_train']\n",
              "  weights={'entropy': 1, 'diversity': 1}\n",
              "  (entropy): EntropyValidator(required_data=['target_train'])\n",
              "  (diversity): DiversityValidator(required_data=['target_train'])\n",
              ")"
            ]
          },
          "metadata": {},
          "execution_count": 21
        }
      ]
    },
    {
      "cell_type": "code",
      "source": [],
      "metadata": {
        "id": "DMng0Q2arzRY"
      },
      "execution_count": null,
      "outputs": []
    },
    {
      "cell_type": "markdown",
      "source": [
        "# 学習の実行"
      ],
      "metadata": {
        "id": "2kVhRz7Ur1Dc"
      }
    },
    {
      "cell_type": "code",
      "source": [
        "num_epoch = 3\n",
        "\n",
        "for epoch in range(num_epoch):\n",
        "    models.train()\n",
        "\n",
        "    # ソースとターゲットをまとめたデータローダーであるtrainを使って学習\n",
        "    for data in tqdm(dataloaders[\"train\"]):\n",
        "        data = batch_to_device(data, device)\n",
        "        _, loss = hook({**models, **data})\n",
        "\n",
        "    models.eval()\n",
        "\n",
        "    # クラス分類時の負の対数尤度を格納\n",
        "    logits = []\n",
        "\n",
        "    with torch.no_grad():\n",
        "        for data in tqdm(dataloaders[\"target_train\"]):\n",
        "            data = batch_to_device(data, device)\n",
        "            logits.append(C(G(data[\"target_imgs\"])))\n",
        "        logits = torch.cat(logits, dim=0)\n",
        "\n",
        "    # 負の対数尤度のリストを更新\n",
        "    score = validator(target_train={\"logits\": logits})\n",
        "\n",
        "    print(f\"\\nEpoch {epoch} score = {score}\\n\")\n"
      ],
      "metadata": {
        "colab": {
          "base_uri": "https://localhost:8080/"
        },
        "id": "l3prnqYnr2Vq",
        "outputId": "db44cff4-394e-42e5-a9d1-542581c92865"
      },
      "execution_count": 23,
      "outputs": [
        {
          "output_type": "stream",
          "name": "stderr",
          "text": [
            "100%|██████████| 1843/1843 [01:30<00:00, 20.44it/s]\n",
            "100%|██████████| 1844/1844 [00:32<00:00, 57.41it/s]\n"
          ]
        },
        {
          "output_type": "stream",
          "name": "stdout",
          "text": [
            "\n",
            "Epoch 0 score = 1.300287902355194\n",
            "\n"
          ]
        },
        {
          "output_type": "stream",
          "name": "stderr",
          "text": [
            "100%|██████████| 1843/1843 [01:13<00:00, 24.91it/s]\n",
            "100%|██████████| 1844/1844 [00:31<00:00, 57.97it/s]\n"
          ]
        },
        {
          "output_type": "stream",
          "name": "stdout",
          "text": [
            "\n",
            "Epoch 1 score = 1.4996307492256165\n",
            "\n"
          ]
        },
        {
          "output_type": "stream",
          "name": "stderr",
          "text": [
            "100%|██████████| 1843/1843 [01:13<00:00, 25.15it/s]\n",
            "100%|██████████| 1844/1844 [00:31<00:00, 58.69it/s]"
          ]
        },
        {
          "output_type": "stream",
          "name": "stdout",
          "text": [
            "\n",
            "Epoch 2 score = 1.6046777367591858\n",
            "\n"
          ]
        },
        {
          "output_type": "stream",
          "name": "stderr",
          "text": [
            "\n"
          ]
        }
      ]
    },
    {
      "cell_type": "code",
      "source": [],
      "metadata": {
        "id": "5iP0zrz2tFr8"
      },
      "execution_count": null,
      "outputs": []
    }
  ]
}