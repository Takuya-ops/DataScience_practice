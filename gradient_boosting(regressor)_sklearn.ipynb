{
  "nbformat": 4,
  "nbformat_minor": 0,
  "metadata": {
    "colab": {
      "provenance": []
    },
    "kernelspec": {
      "name": "python3",
      "display_name": "Python 3"
    },
    "language_info": {
      "name": "python"
    }
  },
  "cells": [
    {
      "cell_type": "code",
      "execution_count": 38,
      "metadata": {
        "id": "10qG3oYafc6Z"
      },
      "outputs": [],
      "source": [
        "# 勾配ブースティング（回帰）の実装\n",
        "from sklearn.tree import DecisionTreeRegressor \n",
        "class MyGradientBoostingRegressor:\n",
        "    def __init__(self, learning_rate=0.02, n_estimators=100, max_depth=1, random_state=0):\n",
        "        self.learning_rate = learning_rate\n",
        "        self.n_estimators = n_estimators\n",
        "        self.max_depth = max_depth\n",
        "        self.random_state = random_state\n",
        "        self.estimators = []\n",
        "\n",
        "    def fit(self, X, y):\n",
        "        self.F0 = y.mean()\n",
        "        Fb = self.F0\n",
        "\n",
        "        for _ in range(self.n_estimators):\n",
        "            # 残差を計算\n",
        "            r = y - Fb\n",
        "            estimator = DecisionTreeRegressor(max_depth=self.max_depth, random_state=self.random_state)\n",
        "            estimator.fit(X, r)\n",
        "            weight = estimator.predict(X)\n",
        "            # Fb = Fb + self.learning_rate * weight\n",
        "            Fb += self.learning_rate * weight\n",
        "            self.estimators.append(estimator) \n",
        "\n",
        "    def predict(self, X):\n",
        "        \n",
        "        Fb = self.F0\n",
        "        for estimator in self.estimators:\n",
        "            Fb += self.learning_rate * estimator.predict(X)\n",
        "\n",
        "        return Fb"
      ]
    },
    {
      "cell_type": "code",
      "source": [
        "# データ準備\n",
        "import seaborn as sns\n",
        "df = sns.load_dataset(\"mpg\")\n",
        "df.dropna(inplace=True)\n",
        "X = df[\"horsepower\"].values.reshape(-1, 1)\n",
        "y = df[\"mpg\"].values\n",
        "sns.scatterplot(x=df[\"horsepower\"], y=df[\"mpg\"])"
      ],
      "metadata": {
        "colab": {
          "base_uri": "https://localhost:8080/",
          "height": 297
        },
        "id": "lNVqSOI-hPk9",
        "outputId": "72604348-1809-4ecc-e149-4cd458e19455"
      },
      "execution_count": 39,
      "outputs": [
        {
          "output_type": "execute_result",
          "data": {
            "text/plain": [
              "<Axes: xlabel='horsepower', ylabel='mpg'>"
            ]
          },
          "metadata": {},
          "execution_count": 39
        },
        {
          "output_type": "display_data",
          "data": {
            "text/plain": [
              "<Figure size 432x288 with 1 Axes>"
            ],
            "image/png": "[encoded data removed]"
          },
          "metadata": {
            "needs_background": "light"
          }
        }
      ]
    },
    {
      "cell_type": "code",
      "source": [
        "mgbr = MyGradientBoostingRegressor()\n",
        "mgbr.fit(X, y)\n",
        "mgbr.predict(X)[:10]"
      ],
      "metadata": {
        "colab": {
          "base_uri": "https://localhost:8080/"
        },
        "id": "UBPS7370hBL9",
        "outputId": "499e1726-0898-41ec-b346-c1c284596969"
      },
      "execution_count": 40,
      "outputs": [
        {
          "output_type": "execute_result",
          "data": {
            "text/plain": [
              "array([18.34741142, 17.12764094, 17.12764094, 17.12764094, 17.45285907,\n",
              "       17.12764094, 17.12764094, 17.12764094, 17.12764094, 17.12764094])"
            ]
          },
          "metadata": {},
          "execution_count": 40
        }
      ]
    },
    {
      "cell_type": "markdown",
      "source": [
        "# sklearnのGradientBoostingRegressor場合"
      ],
      "metadata": {
        "id": "Sxoc86V5wES2"
      }
    },
    {
      "cell_type": "code",
      "source": [
        "from sklearn.ensemble import GradientBoostingRegressor\n",
        "# colabの場合（の後、引数が自動表示される\n",
        "lr = 0.02\n",
        "gbr = GradientBoostingRegressor(learning_rate=lr, n_estimators=100, max_depth=1, random_state=0).fit(X, y)"
      ],
      "metadata": {
        "id": "ha1WgkNNwHFG"
      },
      "execution_count": 62,
      "outputs": []
    },
    {
      "cell_type": "code",
      "source": [
        "# 作られたモデルの確認\n",
        "from sklearn.tree import plot_tree\n",
        "model = gbr.estimators_[2][0]\n",
        "_ = plot_tree(model)\n"
      ],
      "metadata": {
        "colab": {
          "base_uri": "https://localhost:8080/",
          "height": 248
        },
        "id": "oJs8GwHkz9wl",
        "outputId": "b6d2bbd9-abbb-41a2-8ae1-9a251addc800"
      },
      "execution_count": 61,
      "outputs": [
        {
          "output_type": "display_data",
          "data": {
            "text/plain": [
              "<Figure size 432x288 with 1 Axes>"
            ],
            "image/png": "[encoded data removed]"
          },
          "metadata": {
            "needs_background": "light"
          }
        }
      ]
    },
    {
      "cell_type": "code",
      "source": [
        "gbr.predict(X)[:10]"
      ],
      "metadata": {
        "colab": {
          "base_uri": "https://localhost:8080/"
        },
        "id": "GmTtDjSgyjoS",
        "outputId": "20c63506-b3a1-4dd2-dcac-b3fa16de33e6"
      },
      "execution_count": 44,
      "outputs": [
        {
          "output_type": "execute_result",
          "data": {
            "text/plain": [
              "array([18.34741142, 17.12764094, 17.12764094, 17.12764094, 17.45285907,\n",
              "       17.12764094, 17.12764094, 17.12764094, 17.12764094, 17.12764094])"
            ]
          },
          "metadata": {},
          "execution_count": 44
        }
      ]
    },
    {
      "cell_type": "code",
      "source": [
        "mgbr.predict(X)[:20] == gbr.predict(X)[:20]"
      ],
      "metadata": {
        "colab": {
          "base_uri": "https://localhost:8080/"
        },
        "id": "bErvtzaSypPI",
        "outputId": "47260e38-e3c3-4f44-fbbc-d9ffc2556bb8"
      },
      "execution_count": 47,
      "outputs": [
        {
          "output_type": "execute_result",
          "data": {
            "text/plain": [
              "array([ True,  True,  True,  True,  True,  True,  True,  True,  True,\n",
              "        True,  True,  True,  True,  True,  True,  True,  True,  True,\n",
              "        True,  True])"
            ]
          },
          "metadata": {},
          "execution_count": 47
        }
      ]
    },
    {
      "cell_type": "code",
      "source": [
        "results = []\n",
        "idx = 0\n",
        "for k in gbr.estimators_:\n",
        "    result = k[0].predict([X[idx]])\n",
        "    results.append(result*lr)"
      ],
      "metadata": {
        "id": "NxUoVpgnzuEv"
      },
      "execution_count": 66,
      "outputs": []
    },
    {
      "cell_type": "code",
      "source": [
        "results[:10]"
      ],
      "metadata": {
        "colab": {
          "base_uri": "https://localhost:8080/"
        },
        "id": "ZsqlRvFw2sq7",
        "outputId": "4e1b62e9-e8a6-410a-8b79-d17a8ea68f3a"
      },
      "execution_count": 69,
      "outputs": [
        {
          "output_type": "execute_result",
          "data": {
            "text/plain": [
              "[array([-0.11183673]),\n",
              " array([-0.1096]),\n",
              " array([-0.107408]),\n",
              " array([-0.11556619]),\n",
              " array([-0.07394944]),\n",
              " array([-0.11177588]),\n",
              " array([-0.07152643]),\n",
              " array([-0.10810983]),\n",
              " array([-0.06918283]),\n",
              " array([-0.10965879])]"
            ]
          },
          "metadata": {},
          "execution_count": 69
        }
      ]
    },
    {
      "cell_type": "code",
      "source": [
        "import numpy as np\n",
        "F0 = np.mean(y)\n",
        "Fb= F0 + np.cumsum(results)\n",
        "Fb"
      ],
      "metadata": {
        "colab": {
          "base_uri": "https://localhost:8080/"
        },
        "id": "dPZNLF6Q22FD",
        "outputId": "cda20910-3ec9-464d-ce23-583d4ad9d6da"
      },
      "execution_count": 76,
      "outputs": [
        {
          "output_type": "execute_result",
          "data": {
            "text/plain": [
              "array([23.33408163, 23.22448163, 23.11707363, 23.00150744, 22.927558  ,\n",
              "       22.81578212, 22.74425569, 22.63614586, 22.56696303, 22.45730424,\n",
              "       22.3903489 , 22.28422239, 22.21942281, 22.1299423 , 22.02902393,\n",
              "       21.96720548, 21.9066234 , 21.81017141, 21.71564845, 21.65774758,\n",
              "       21.52576244, 21.46951629, 21.34129577, 21.28665707, 21.16209374,\n",
              "       21.08750292, 20.96018143, 20.9082926 , 20.78455532, 20.73412306,\n",
              "       20.61386917, 20.58140027, 20.50336095, 20.47180305, 20.35679556,\n",
              "       20.31004928, 20.20403934, 20.17386331, 20.11084049, 20.0802934 ,\n",
              "       19.9731161 , 19.94454228, 19.84008001, 19.79780978, 19.69628215,\n",
              "       19.66895186, 19.6032813 , 19.57671777, 19.47961199, 19.45372292,\n",
              "       19.35907703, 19.32074584, 19.23350579, 19.20875109, 19.15688209,\n",
              "       19.06817302, 19.04427367, 18.95781677, 18.93351935, 18.88007774,\n",
              "       18.85742741, 18.88350479, 18.85001625, 18.76953069, 18.7478592 ,\n",
              "       18.77156565, 18.75043246, 18.69953796, 18.7223774 , 18.70193853,\n",
              "       18.6715213 , 18.69362656, 18.67395929, 18.60614679, 18.58615695,\n",
              "       18.60723391, 18.56733891, 18.54881356, 18.56915032, 18.55108545,\n",
              "       18.57091693, 18.54413961, 18.5016042 , 18.48436427, 18.50332702,\n",
              "       18.48651577, 18.50500757, 18.47005601, 18.45312234, 18.47002456,\n",
              "       18.45417218, 18.39930561, 18.37584119, 18.39194491, 18.37677523,\n",
              "       18.39248271, 18.37768591, 18.34653869, 18.3617074 , 18.34741142])"
            ]
          },
          "metadata": {},
          "execution_count": 76
        }
      ]
    },
    {
      "cell_type": "code",
      "source": [
        "import matplotlib.pyplot as plt\n",
        "# %matplotlib inline\n",
        "plt.plot(Fb)"
      ],
      "metadata": {
        "colab": {
          "base_uri": "https://localhost:8080/",
          "height": 283
        },
        "id": "FP1nIRDI3Krc",
        "outputId": "a99c9845-9a7e-4d6a-fa0d-02068f79fc8e"
      },
      "execution_count": 77,
      "outputs": [
        {
          "output_type": "execute_result",
          "data": {
            "text/plain": [
              "[<matplotlib.lines.Line2D at 0x7f5a115caa00>]"
            ]
          },
          "metadata": {},
          "execution_count": 77
        },
        {
          "output_type": "display_data",
          "data": {
            "text/plain": [
              "<Figure size 432x288 with 1 Axes>"
            ],
            "image/png": "[encoded data removed]"
          },
          "metadata": {
            "needs_background": "light"
          }
        }
      ]
    },
    {
      "cell_type": "code",
      "source": [
        "# 真の値\n",
        "y[0]"
      ],
      "metadata": {
        "colab": {
          "base_uri": "https://localhost:8080/"
        },
        "id": "m85yg2j14JTj",
        "outputId": "02293227-e1d5-43ab-cef5-bd09dec6b3b0"
      },
      "execution_count": 78,
      "outputs": [
        {
          "output_type": "execute_result",
          "data": {
            "text/plain": [
              "18.0"
            ]
          },
          "metadata": {},
          "execution_count": 78
        }
      ]
    },
    {
      "cell_type": "code",
      "source": [],
      "metadata": {
        "id": "K6XxsnAc4wAK"
      },
      "execution_count": null,
      "outputs": []
    }
  ]
}