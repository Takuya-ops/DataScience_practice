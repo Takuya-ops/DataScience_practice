{
  "nbformat": 4,
  "nbformat_minor": 0,
  "metadata": {
    "colab": {
      "provenance": [],
      "gpuType": "T4"
    },
    "kernelspec": {
      "name": "python3",
      "display_name": "Python 3"
    },
    "language_info": {
      "name": "python"
    },
    "accelerator": "GPU",
    "gpuClass": "standard"
  },
  "cells": [
    {
      "cell_type": "markdown",
      "source": [
        "# PyTorch Adapt を用いた DANN の実装"
      ],
      "metadata": {
        "id": "_O6edHTVxoTY"
      }
    },
    {
      "cell_type": "markdown",
      "source": [
        "## 事前準備\n",
        "\n",
        "- ニューラルネットワークの学習を高速化するためにランタイムを GPU に変更します\n",
        "- ツールバーから「ランタイム」→「ランタイムのタイプを変更」と進み、「ハードウェアアクセラレータ」をGPUに選択して「保存」を選択しましょう"
      ],
      "metadata": {
        "id": "jp-HQP8ZDdF5"
      }
    },
    {
      "cell_type": "markdown",
      "source": [
        "## ライブラリのインストール"
      ],
      "metadata": {
        "id": "W-Iiba4XyKTy"
      }
    },
    {
      "cell_type": "code",
      "execution_count": 6,
      "metadata": {
        "id": "43lXV18AvAsv"
      },
      "outputs": [],
      "source": [
        "!pip install -q pytorch-adapt"
      ]
    },
    {
      "cell_type": "markdown",
      "source": [
        "## ライブラリのインポート"
      ],
      "metadata": {
        "id": "a25mM5h_yYqP"
      }
    },
    {
      "cell_type": "code",
      "source": [
        "# PyTorch \n",
        "import torch\n",
        "\n",
        "# プログレスバーの表示\n",
        "from tqdm import tqdm\n",
        "\n",
        "# PyTorch Adapt 関連\n",
        "from pytorch_adapt.containers import Models, Optimizers\n",
        "from pytorch_adapt.datasets import DataloaderCreator, get_mnist_mnistm\n",
        "from pytorch_adapt.hooks import DANNHook\n",
        "from pytorch_adapt.models import Discriminator, mnistC, mnistG\n",
        "from pytorch_adapt.utils.common_functions import batch_to_device\n",
        "from pytorch_adapt.validators import IMValidator"
      ],
      "metadata": {
        "id": "L_Mnii3mvI8F"
      },
      "execution_count": 7,
      "outputs": []
    },
    {
      "cell_type": "markdown",
      "source": [
        "## データのダウンロード"
      ],
      "metadata": {
        "id": "pgZ45UeD4PUP"
      }
    },
    {
      "cell_type": "code",
      "source": [
        "# ソース： MNIST、ターゲット： MNIST-M をダウンロード\n",
        "datasets = get_mnist_mnistm([\"mnist\"],[\"mnistm\"], folder=\".\", download=True)"
      ],
      "metadata": {
        "id": "V_RgFVfGvmaU"
      },
      "execution_count": 8,
      "outputs": []
    },
    {
      "cell_type": "code",
      "source": [
        "# データローダを作成\n",
        "dc = DataloaderCreator(batch_size=32)  # バッチサイズ \n",
        "dataloaders = dc(**datasets) # ソース・ターゲットなどをまとめたデータセットを作成"
      ],
      "metadata": {
        "id": "qpGRjTruyziW"
      },
      "execution_count": 9,
      "outputs": []
    },
    {
      "cell_type": "markdown",
      "source": [
        "## モデルの定義"
      ],
      "metadata": {
        "id": "tXPzpSXx4RaB"
      }
    },
    {
      "cell_type": "code",
      "source": [
        "# デバイス情報を取得\n",
        "device = torch.device(\"cuda\") if torch.cuda.is_available() else torch.device(\"cpu\")\n",
        "\n",
        "# 共通の特徴抽出器（畳み込み層2層文）を定義\n",
        "G = mnistG(pretrained=False).to(device)\n",
        "\n",
        "# クラス分類のための全結合層3層を定義\n",
        "C = mnistC(pretrained=False).to(device)\n",
        "\n",
        "# 敵対的学習のための全結合層2層を定義\n",
        "D = Discriminator(in_size=1200, # 入力次元数\n",
        "                  h=256 # 中間層のユニット数\n",
        "                  ).to(device)\n",
        "\n",
        "# 3 つをまとめてひとつのモデルとする\n",
        "models = Models({\"G\": G,\"C\": C, \"D\": D})\n",
        "\n",
        "# 最適化アルゴリズムとして、Adam　を使用\n",
        "optimizers = Optimizers((torch.optim.Adam, {\"lr\": 0.001}))\n",
        "\n",
        "# モデルのパラメータをオプティマイザに登録\n",
        "optimizers.create_with(models)\n",
        "optimizers = list(optimizers.values())\n",
        "\n",
        "# 損失関数やモデル更新をまとめた Hook を定義\n",
        "hook = DANNHook(optimizers)\n",
        "\n",
        "# 評価指標をまとめた Validator を定義\n",
        "validator = IMValidator()"
      ],
      "metadata": {
        "id": "Nq8OsKEKvn0g"
      },
      "execution_count": 10,
      "outputs": []
    },
    {
      "cell_type": "markdown",
      "source": [
        "## 学習の実行"
      ],
      "metadata": {
        "id": "lULFgoLI4TND"
      }
    },
    {
      "cell_type": "code",
      "source": [
        "# エポック数\n",
        "num_epoch = 2\n",
        "\n",
        "# 学習と評価を行うループ\n",
        "for epoch in range(num_epoch):\n",
        "    # モデルを学習モードに変更\n",
        "    models.train()\n",
        "    \n",
        "    # ソース・ターゲットをまとめたデータローダ train を使って学習\n",
        "    for data in tqdm(dataloaders[\"train\"]):\n",
        "        # データとラベルを GPU へ転送\n",
        "        data = batch_to_device(data, device)\n",
        "        # パラメータ更新を実行し、損失を取得\n",
        "        _, loss = hook({**models, **data})\n",
        "\n",
        "    # モデルを評価モードに変更\n",
        "    models.eval()\n",
        "\n",
        "    # クラス分類時の負の対数尤度をまとめるリスト\n",
        "    logits = []\n",
        "\n",
        "    # 評価なので、勾配計算のためのメモリ使用は行わずに以下を実行\n",
        "    with torch.no_grad():\n",
        "        # 今回はターゲットの学習データを取得\n",
        "        for data in tqdm(dataloaders[\"target_train\"]):\n",
        "            # データとラベルを GPU へ転送\n",
        "            data = batch_to_device(data, device)\n",
        "            # 特徴抽出器→分類器の順で順伝播して、負の対数尤度を計算\n",
        "            logits.append(C(G(data[\"target_imgs\"])))\n",
        "        # 負の対数尤度のリストを更新\n",
        "        logits = torch.cat(logits, dim=0)\n",
        "\n",
        "    # ターゲットの負の対数尤度の平均を計算\n",
        "    score = validator(target_train={\"logits\": logits})\n",
        "\n",
        "    # 表示\n",
        "    print(f\"\\nEpoch {epoch} score = {score}\\n\")"
      ],
      "metadata": {
        "colab": {
          "base_uri": "https://localhost:8080/"
        },
        "id": "dv42xUCIwP9I",
        "outputId": "34ba5c07-e9b2-461a-d63d-55cd8a8333b9"
      },
      "execution_count": null,
      "outputs": [
        {
          "output_type": "stream",
          "name": "stderr",
          "text": [
            "100%|██████████| 1843/1843 [04:10<00:00,  7.36it/s]\n",
            "100%|██████████| 1844/1844 [01:05<00:00, 28.26it/s]\n"
          ]
        },
        {
          "output_type": "stream",
          "name": "stdout",
          "text": [
            "\n",
            "Epoch 0 score = 1.0237963199615479\n",
            "\n"
          ]
        },
        {
          "output_type": "stream",
          "name": "stderr",
          "text": [
            "100%|██████████| 1843/1843 [04:25<00:00,  6.94it/s]\n",
            " 98%|█████████▊| 1806/1844 [01:02<00:01, 35.54it/s]"
          ]
        }
      ]
    }
  ]
}