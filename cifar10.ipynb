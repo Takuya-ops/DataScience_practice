{
  "nbformat": 4,
  "nbformat_minor": 0,
  "metadata": {
    "colab": {
      "provenance": [],
      "gpuType": "T4"
    },
    "kernelspec": {
      "name": "python3",
      "display_name": "Python 3"
    },
    "language_info": {
      "name": "python"
    },
    "accelerator": "GPU"
  },
  "cells": [
    {
      "cell_type": "markdown",
      "source": [
        "# tensorflowの場合"
      ],
      "metadata": {
        "id": "LSqlAk0VShzD"
      }
    },
    {
      "cell_type": "code",
      "source": [
        "import tensorflow as tf\n",
        "\n",
        "# 1. 環境の準備とデータの読み込み\n",
        "(x_train, y_train), (x_test, y_test) = tf.keras.datasets.cifar10.load_data()\n",
        "\n",
        "# 2. データの前処理\n",
        "x_train, x_test = x_train / 255.0, x_test / 255.0\n",
        "\n",
        "# 3. モデルの構築\n",
        "model = tf.keras.models.Sequential([\n",
        "    tf.keras.layers.Conv2D(32, (3, 3), activation='relu', input_shape=(32, 32, 3)),\n",
        "    tf.keras.layers.MaxPooling2D(2, 2),\n",
        "    tf.keras.layers.Conv2D(64, (3, 3), activation='relu'),\n",
        "    tf.keras.layers.MaxPooling2D(2, 2),\n",
        "    tf.keras.layers.Conv2D(64, (3, 3), activation='relu'),\n",
        "    tf.keras.layers.Flatten(),\n",
        "    tf.keras.layers.Dense(64, activation='relu'),\n",
        "    tf.keras.layers.Dense(10, activation='softmax')  # CIFAR-10は10クラスのため出力層は10ノード\n",
        "])\n",
        "\n",
        "# 4. モデルのコンパイル\n",
        "model.compile(optimizer='adam',\n",
        "              loss='sparse_categorical_crossentropy',\n",
        "              metrics=['accuracy'])\n",
        "\n",
        "# 5. モデルのトレーニング\n",
        "history = model.fit(x_train, y_train, epochs=10, validation_data=(x_test, y_test))\n",
        "\n",
        "# 6. モデルの評価\n",
        "test_loss, test_acc = model.evaluate(x_test,  y_test, verbose=2)\n",
        "print(f'Test accuracy: {test_acc}')\n"
      ],
      "metadata": {
        "colab": {
          "base_uri": "https://localhost:8080/"
        },
        "id": "k6mLRCK0I5-B",
        "outputId": "5c750a25-fe54-4461-8c80-722a7d643c71"
      },
      "execution_count": 1,
      "outputs": [
        {
          "output_type": "stream",
          "name": "stdout",
          "text": [
            "Downloading data from https://www.cs.toronto.edu/~kriz/cifar-10-python.tar.gz\n",
            "170498071/170498071 [==============================] - 2s 0us/step\n",
            "Epoch 1/10\n",
            "1563/1563 [==============================] - 13s 6ms/step - loss: 1.5425 - accuracy: 0.4366 - val_loss: 1.2888 - val_accuracy: 0.5341\n",
            "Epoch 2/10\n",
            "1563/1563 [==============================] - 8s 5ms/step - loss: 1.2026 - accuracy: 0.5706 - val_loss: 1.1433 - val_accuracy: 0.5880\n",
            "Epoch 3/10\n",
            "1563/1563 [==============================] - 7s 5ms/step - loss: 1.0498 - accuracy: 0.6297 - val_loss: 1.0324 - val_accuracy: 0.6332\n",
            "Epoch 4/10\n",
            "1563/1563 [==============================] - 8s 5ms/step - loss: 0.9520 - accuracy: 0.6672 - val_loss: 0.9938 - val_accuracy: 0.6492\n",
            "Epoch 5/10\n",
            "1563/1563 [==============================] - 8s 5ms/step - loss: 0.8805 - accuracy: 0.6923 - val_loss: 0.9179 - val_accuracy: 0.6798\n",
            "Epoch 6/10\n",
            "1563/1563 [==============================] - 8s 5ms/step - loss: 0.8149 - accuracy: 0.7143 - val_loss: 0.8947 - val_accuracy: 0.6917\n",
            "Epoch 7/10\n",
            "1563/1563 [==============================] - 8s 5ms/step - loss: 0.7687 - accuracy: 0.7323 - val_loss: 0.9063 - val_accuracy: 0.6916\n",
            "Epoch 8/10\n",
            "1563/1563 [==============================] - 7s 5ms/step - loss: 0.7256 - accuracy: 0.7471 - val_loss: 0.9192 - val_accuracy: 0.6956\n",
            "Epoch 9/10\n",
            "1563/1563 [==============================] - 8s 5ms/step - loss: 0.6887 - accuracy: 0.7573 - val_loss: 0.8975 - val_accuracy: 0.6951\n",
            "Epoch 10/10\n",
            "1563/1563 [==============================] - 7s 5ms/step - loss: 0.6539 - accuracy: 0.7700 - val_loss: 0.8570 - val_accuracy: 0.7098\n",
            "313/313 - 1s - loss: 0.8570 - accuracy: 0.7098 - 753ms/epoch - 2ms/step\n",
            "Test accuracy: 0.7098000049591064\n"
          ]
        }
      ]
    },
    {
      "cell_type": "markdown",
      "source": [
        "# Pytorchの場合"
      ],
      "metadata": {
        "id": "1T_RzROqSo2V"
      }
    },
    {
      "cell_type": "code",
      "source": [
        "import torch\n",
        "import torch.nn as nn\n",
        "import torch.nn.functional as F\n",
        "import torch.optim as optim\n",
        "from torchvision import datasets, transforms\n",
        "from torch.utils.data import DataLoader\n",
        "\n",
        "# 1. 環境の準備とデータの読み込み\n",
        "transform = transforms.Compose([transforms.ToTensor(),\n",
        "                                transforms.Normalize((0.5, 0.5, 0.5), (0.5, 0.5, 0.5))])\n",
        "\n",
        "trainset = datasets.CIFAR10(root='./data', train=True, download=True, transform=transform)\n",
        "trainloader = DataLoader(trainset, batch_size=64, shuffle=True)\n",
        "\n",
        "testset = datasets.CIFAR10(root='./data', train=False, download=True, transform=transform)\n",
        "testloader = DataLoader(testset, batch_size=64, shuffle=False)\n",
        "\n",
        "# 2. モデルの構築\n",
        "class Net(nn.Module):\n",
        "    def __init__(self):\n",
        "        super(Net, self).__init__()\n",
        "        self.conv1 = nn.Conv2d(3, 32, 3)\n",
        "        self.pool = nn.MaxPool2d(2, 2)\n",
        "        self.conv2 = nn.Conv2d(32, 64, 3)\n",
        "        self.conv3 = nn.Conv2d(64, 64, 3)\n",
        "        self.fc1 = nn.Linear(64 * 4 * 4, 64)\n",
        "        self.fc2 = nn.Linear(64, 10)\n",
        "\n",
        "    def forward(self, x):\n",
        "        x = self.pool(F.relu(self.conv1(x)))\n",
        "        x = self.pool(F.relu(self.conv2(x)))\n",
        "        x = F.relu(self.conv3(x))\n",
        "        x = x.view(-1, 64 * 4 * 4)\n",
        "        x = F.relu(self.fc1(x))\n",
        "        x = self.fc2(x)\n",
        "        return x\n",
        "\n",
        "net = Net()\n",
        "\n",
        "# 3. 損失関数とオプティマイザの設定\n",
        "criterion = nn.CrossEntropyLoss()\n",
        "optimizer = optim.Adam(net.parameters(), lr=0.001)\n",
        "\n",
        "# 4. モデルのトレーニング\n",
        "for epoch in range(10):\n",
        "\n",
        "    running_loss = 0.0\n",
        "    for i, data in enumerate(trainloader, 0):\n",
        "        inputs, labels = data\n",
        "        optimizer.zero_grad()\n",
        "\n",
        "        outputs = net(inputs)\n",
        "        loss = criterion(outputs, labels)\n",
        "        loss.backward()\n",
        "        optimizer.step()\n",
        "\n",
        "        running_loss += loss.item()\n",
        "        if i % 200 == 199:\n",
        "            print('[%d, %5d] loss: %.3f' %\n",
        "                  (epoch + 1, i + 1, running_loss / 200))\n",
        "            running_loss = 0.0\n",
        "\n",
        "print('Finished Training')\n",
        "\n",
        "# 5. モデルの評価\n",
        "correct = 0\n",
        "total = 0\n",
        "with torch.no_grad():\n",
        "    for data in testloader:\n",
        "        images, labels = data\n",
        "        outputs = net(images)\n",
        "        _, predicted = torch.max(outputs.data, 1)\n",
        "        total += labels.size(0)\n",
        "        correct += (predicted == labels).sum().item()\n",
        "\n",
        "print(f'Test accuracy: {100 * correct // total}%')"
      ],
      "metadata": {
        "colab": {
          "base_uri": "https://localhost:8080/"
        },
        "id": "2v24_XYEL5Rm",
        "outputId": "1f0ca1e8-ab5f-49fb-b3b0-59e6892c1b91"
      },
      "execution_count": 3,
      "outputs": [
        {
          "output_type": "stream",
          "name": "stdout",
          "text": [
            "Downloading https://www.cs.toronto.edu/~kriz/cifar-10-python.tar.gz to ./data/cifar-10-python.tar.gz\n"
          ]
        },
        {
          "output_type": "stream",
          "name": "stderr",
          "text": [
            "100%|██████████| 170498071/170498071 [00:01<00:00, 105654195.79it/s]\n"
          ]
        },
        {
          "output_type": "stream",
          "name": "stdout",
          "text": [
            "Extracting ./data/cifar-10-python.tar.gz to ./data\n",
            "Files already downloaded and verified\n",
            "[1,   200] loss: 1.869\n",
            "[1,   400] loss: 1.564\n",
            "[1,   600] loss: 1.416\n",
            "[2,   200] loss: 1.269\n",
            "[2,   400] loss: 1.208\n",
            "[2,   600] loss: 1.164\n",
            "[3,   200] loss: 1.066\n",
            "[3,   400] loss: 1.042\n",
            "[3,   600] loss: 1.010\n",
            "[4,   200] loss: 0.925\n",
            "[4,   400] loss: 0.951\n",
            "[4,   600] loss: 0.907\n",
            "[5,   200] loss: 0.842\n",
            "[5,   400] loss: 0.848\n",
            "[5,   600] loss: 0.823\n",
            "[6,   200] loss: 0.772\n",
            "[6,   400] loss: 0.779\n",
            "[6,   600] loss: 0.760\n",
            "[7,   200] loss: 0.712\n",
            "[7,   400] loss: 0.708\n",
            "[7,   600] loss: 0.739\n",
            "[8,   200] loss: 0.652\n",
            "[8,   400] loss: 0.663\n",
            "[8,   600] loss: 0.683\n",
            "[9,   200] loss: 0.594\n",
            "[9,   400] loss: 0.629\n",
            "[9,   600] loss: 0.648\n",
            "[10,   200] loss: 0.565\n",
            "[10,   400] loss: 0.574\n",
            "[10,   600] loss: 0.601\n",
            "Finished Training\n",
            "Test accuracy: 72%\n"
          ]
        }
      ]
    },
    {
      "cell_type": "code",
      "source": [],
      "metadata": {
        "id": "1sGqAKkJPnwu"
      },
      "execution_count": null,
      "outputs": []
    }
  ]
}